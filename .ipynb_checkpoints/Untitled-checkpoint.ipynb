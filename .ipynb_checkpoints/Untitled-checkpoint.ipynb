{
 "cells": [
  {
   "cell_type": "code",
   "execution_count": 1,
   "metadata": {},
   "outputs": [],
   "source": [
    "import tensorflow as tf\n",
    "import numpy as np\n",
    "import alphazul\n",
    "from copy import deepcopy\n",
    "import azul\n",
    "import policy\n",
    "import mcts"
   ]
  },
  {
   "cell_type": "code",
   "execution_count": 2,
   "metadata": {
    "scrolled": false
   },
   "outputs": [
    {
     "name": "stdout",
     "output_type": "stream",
     "text": [
      "INFO:tensorflow:Restoring parameters from ./model/latest.ckpt\n",
      "19\n",
      "37\n",
      "game over\n"
     ]
    }
   ],
   "source": [
    "    game = azul.Azul(2)\n",
    "    game.start()\n",
    "    \n",
    "    infnet = alphazul.InfHelperS()\n",
    "    \n",
    "    searches = []\n",
    "    search = mcts.MCTSearch(game, infnet, commands = np.argwhere(np.ones((6,5,6))==1))\n",
    "    while True:\n",
    "        action,_ = search.start_search(300)\n",
    "        searches.append(search._root)\n",
    "        is_turn_end = game.take_command(action)\n",
    "        if is_turn_end:\n",
    "            game.turn_end(verbose = False)\n",
    "            if game.is_terminal:\n",
    "                game.final_score(verbose=True)\n",
    "                break\n",
    "            else:\n",
    "                game.start_turn()\n",
    "                search = mcts.MCTSearch(game, infnet, np.argwhere(np.ones((6,5,6))==1))\n",
    "        else:\n",
    "            search.change_root()\n"
   ]
  },
  {
   "cell_type": "code",
   "execution_count": 14,
   "metadata": {
    "scrolled": true
   },
   "outputs": [
    {
     "name": "stdout",
     "output_type": "stream",
     "text": [
      "61\n",
      "325 324\n",
      "[  2  62   3   1  53  60   2   2 137   2] 165\n",
      "[0.01501083 0.01016331 0.04885264 0.02168911 0.01037708 0.01394981\n",
      " 0.01075864 0.20192398 0.2890215  0.0226967  0.02252972 0.2690225\n",
      " 0.01075254 0.01735597] 158\n",
      "[ 0.          0.          0.12860537  0.          0.42814381  0.21728694\n",
      "  0.          0.          0.12415045  0.          0.          0.33068409\n",
      "  0.29852002  0.         -0.07921433 -0.15342352  0.40378278  0.\n",
      "  0.         -0.05719207] 15 0.428143808917924\n"
     ]
    },
    {
     "ename": "IndexError",
     "evalue": "index 165 is out of bounds for axis 0 with size 20",
     "output_type": "error",
     "traceback": [
      "\u001b[0;31m---------------------------------------------------------------------------\u001b[0m",
      "\u001b[0;31mIndexError\u001b[0m                                Traceback (most recent call last)",
      "\u001b[0;32m<ipython-input-14-9cb6b1e0f3a6>\u001b[0m in \u001b[0;36m<module>\u001b[0;34m()\u001b[0m\n\u001b[1;32m      7\u001b[0m \u001b[0mqs\u001b[0m \u001b[0;34m=\u001b[0m \u001b[0mqs\u001b[0m\u001b[0;34m[\u001b[0m\u001b[0mqs\u001b[0m\u001b[0;34m>\u001b[0m\u001b[0;34m-\u001b[0m\u001b[0;36m1e10\u001b[0m\u001b[0;34m]\u001b[0m\u001b[0;34m\u001b[0m\u001b[0m\n\u001b[1;32m      8\u001b[0m \u001b[0mprint\u001b[0m\u001b[0;34m(\u001b[0m\u001b[0mqs\u001b[0m\u001b[0;34m,\u001b[0m\u001b[0mnp\u001b[0m\u001b[0;34m.\u001b[0m\u001b[0margmax\u001b[0m\u001b[0;34m(\u001b[0m\u001b[0msearches\u001b[0m\u001b[0;34m[\u001b[0m\u001b[0mi\u001b[0m\u001b[0;34m]\u001b[0m\u001b[0;34m.\u001b[0m\u001b[0mchild_Qs\u001b[0m\u001b[0;34m)\u001b[0m\u001b[0;34m,\u001b[0m\u001b[0mnp\u001b[0m\u001b[0;34m.\u001b[0m\u001b[0mmax\u001b[0m\u001b[0;34m(\u001b[0m\u001b[0msearches\u001b[0m\u001b[0;34m[\u001b[0m\u001b[0mi\u001b[0m\u001b[0;34m]\u001b[0m\u001b[0;34m.\u001b[0m\u001b[0mchild_Qs\u001b[0m\u001b[0;34m)\u001b[0m\u001b[0;34m)\u001b[0m\u001b[0;34m\u001b[0m\u001b[0m\n\u001b[0;32m----> 9\u001b[0;31m \u001b[0mprint\u001b[0m\u001b[0;34m(\u001b[0m\u001b[0mqs\u001b[0m\u001b[0;34m[\u001b[0m\u001b[0mnp\u001b[0m\u001b[0;34m.\u001b[0m\u001b[0margmax\u001b[0m\u001b[0;34m(\u001b[0m\u001b[0msearches\u001b[0m\u001b[0;34m[\u001b[0m\u001b[0mi\u001b[0m\u001b[0;34m]\u001b[0m\u001b[0;34m.\u001b[0m\u001b[0mchild_Ns\u001b[0m\u001b[0;34m)\u001b[0m\u001b[0;34m]\u001b[0m\u001b[0;34m)\u001b[0m\u001b[0;34m\u001b[0m\u001b[0m\n\u001b[0m\u001b[1;32m     10\u001b[0m \u001b[0;34m\u001b[0m\u001b[0m\n\u001b[1;32m     11\u001b[0m \u001b[0;34m\u001b[0m\u001b[0m\n",
      "\u001b[0;31mIndexError\u001b[0m: index 165 is out of bounds for axis 0 with size 20"
     ]
    }
   ],
   "source": [
    "i = 47\n",
    "print(len(searches))\n",
    "print(searches[i].visit_count,np.sum(searches[i].child_Ns))\n",
    "print(searches[i].child_Ns[searches[i].child_Ns>0],np.argmax(searches[i].child_Ns))\n",
    "print(searches[i].prior[searches[i].prior>0.01],np.argmax(searches[i].prior))\n",
    "qs = searches[i].child_Qs\n",
    "qs = qs[qs>-1e10]\n",
    "print(qs,np.argmax(searches[i].child_Qs),np.max(searches[i].child_Qs))\n",
    "print(searches[i].child_Qs[np.argmax(searches[i].child_Ns)])\n",
    "\n",
    "\n",
    "# print(searches[i].child_Ns)"
   ]
  },
  {
   "cell_type": "code",
   "execution_count": 12,
   "metadata": {},
   "outputs": [
    {
     "name": "stdout",
     "output_type": "stream",
     "text": [
      "0.3422225576926703\n"
     ]
    }
   ],
   "source": [
    "print(np.max(np.abs(qs)))"
   ]
  },
  {
   "cell_type": "code",
   "execution_count": 15,
   "metadata": {},
   "outputs": [
    {
     "name": "stdout",
     "output_type": "stream",
     "text": [
      "[  0   1   2   3   4   5   6   7   8   9  10  11  12  13  14  15  16  17\n",
      "  18  19  20  21  22  23  24  25  26  27  28  29  30  31  32  33  34  35\n",
      "  36  37  38  39  40  41  42  43  44  45  46  47  48  49  50  51  52  53\n",
      "  54  55  56  57  58  59  60  61  62  63  64  65  66  67  68  69  70  71\n",
      "  72  73  74  75  76  77  78  79  80  81  82  83  84  85  86  87  88  89\n",
      "  90  91  92  93  94  95  96  97  98  99 100 101 102 103 104 105 106 107\n",
      " 108 109 110 111 112 113 114 115 116 117 118 119 120 121 122 123 124 125\n",
      " 126 127 128 129 130 131 132 133 134 135 136 137 138 139 140 141 142 143\n",
      " 144 145 146 147 148 149 150 151 152 153 154 155 156 157 158 159 160 161\n",
      " 162 163 164 165 166 167 168 169 170 171 172 173 174 175 176 177 178 179] [0.         0.         0.         0.         0.         0.\n",
      " 0.         0.         0.         0.         0.         0.\n",
      " 0.         0.         0.         0.         0.         0.\n",
      " 0.         0.         0.         0.         0.         0.\n",
      " 0.         0.         0.         0.         0.         0.\n",
      " 0.         0.         0.         0.         0.         0.\n",
      " 0.         0.         0.         0.         0.         0.\n",
      " 0.         0.         0.         0.         0.         0.\n",
      " 0.         0.         0.         0.         0.         0.\n",
      " 0.         0.         0.         0.         0.         0.\n",
      " 0.         0.         0.19827586 0.         0.         0.\n",
      " 0.         0.01436782 0.1091954  0.         0.         0.\n",
      " 0.         0.         0.         0.         0.         0.\n",
      " 0.         0.17528736 0.         0.         0.         0.\n",
      " 0.         0.         0.         0.         0.         0.\n",
      " 0.         0.         0.11781609 0.         0.         0.\n",
      " 0.         0.         0.         0.         0.         0.\n",
      " 0.         0.         0.         0.         0.         0.\n",
      " 0.         0.06609195 0.         0.         0.         0.\n",
      " 0.00862069 0.         0.         0.         0.         0.\n",
      " 0.         0.         0.         0.         0.         0.\n",
      " 0.         0.00862069 0.13218391 0.         0.         0.\n",
      " 0.         0.         0.         0.         0.         0.\n",
      " 0.         0.04022989 0.         0.         0.         0.\n",
      " 0.         0.         0.         0.         0.         0.\n",
      " 0.         0.         0.02011494 0.         0.         0.\n",
      " 0.         0.04310345 0.02586207 0.         0.         0.\n",
      " 0.         0.         0.         0.         0.         0.\n",
      " 0.         0.04022989 0.         0.         0.         0.\n",
      " 0.         0.         0.         0.         0.         0.        ]\n",
      "62\n",
      "68\n",
      "68\n",
      "79\n",
      "92\n",
      "62\n",
      "109\n",
      "152\n",
      "109\n",
      "127\n",
      "92\n"
     ]
    }
   ],
   "source": [
    "value = np.arange(len(searches[i].child_Ns))\n",
    "distribution = searches[i].child_Ns/np.sum(searches[i].child_Ns)\n",
    "\n",
    "print(value, distribution)\n",
    "print(np.argmax(searches[i].child_Ns))\n",
    "for _ in range(10):\n",
    "    print(np.random.choice(value,p = distribution))\n"
   ]
  },
  {
   "cell_type": "code",
   "execution_count": null,
   "metadata": {},
   "outputs": [],
   "source": []
  }
 ],
 "metadata": {
  "kernelspec": {
   "display_name": "Python 3",
   "language": "python",
   "name": "python3"
  },
  "language_info": {
   "codemirror_mode": {
    "name": "ipython",
    "version": 3
   },
   "file_extension": ".py",
   "mimetype": "text/x-python",
   "name": "python",
   "nbconvert_exporter": "python",
   "pygments_lexer": "ipython3",
   "version": "3.6.5"
  }
 },
 "nbformat": 4,
 "nbformat_minor": 2
}
